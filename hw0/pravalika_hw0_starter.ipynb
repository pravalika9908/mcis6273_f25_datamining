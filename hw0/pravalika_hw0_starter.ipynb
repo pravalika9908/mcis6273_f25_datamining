# HW0 SOLUTION : [pravalika akkuri | 999903872]

import os, requests
from bs4 import BeautifulSoup
os.makedirs("data", exist_ok=True)
soup = BeautifulSoup(requests.get("https://globeatnight.org/maps-data/").text, "html.parser")
links = ["https://globeatnight.org" + a['href'] for a in soup.find_all('a', href=True) 
         if "/documents/" in a['href'] and "GaN" in a['href'] and ".csv" in a['href']]
with open("data/gan_urls.txt", "w") as f:
    f.write(",".join(links))
