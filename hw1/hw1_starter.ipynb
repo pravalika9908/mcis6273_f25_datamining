{
  "cells": [
    {
      "cell_type": "markdown",
      "id": "440f4ed5-37d8-4248-8bef-8337deb15ce2",
      "metadata": {
        "id": "440f4ed5-37d8-4248-8bef-8337deb15ce2"
      },
      "source": [
        "# HW1 SOLUTION : [PRAVALIKA_AKKURI | 999903872]"
      ]
    },
    {
      "cell_type": "markdown",
      "id": "1cff700c-a716-42bc-ae1e-7c2dc0bb5251",
      "metadata": {
        "id": "1cff700c-a716-42bc-ae1e-7c2dc0bb5251"
      },
      "source": [
        "### (80%) Perform basic data engineering on the light pollution dataset.\n",
        "\n",
        "\n",
        "For our data engineering we want to broadly\n",
        "complete the following:\n",
        "\n",
        "1. combine all the GaN files into a single file and thus a\n",
        "   single Pandas DataFrame,\n",
        "2. convert specific data fields to numeric fields using\n",
        "   Pandas,\n",
        "3. combine date and time fields for easier time series evaluation,\n",
        "3. split data out of specific fields and into new simpler\n",
        "   fields,\n",
        "4. use Pandas to understand the underlying distrubution\n",
        "   of certain data.\n",
        "\n",
        "\n"
      ]
    },
    {
      "cell_type": "markdown",
      "id": "39c0a926",
      "metadata": {
        "id": "39c0a926"
      },
      "source": [
        "**&#167; Task:**  **Use the file of URLs from the first assignment to load the data from 2014-2024 and store it all into a single file.**\n"
      ]
    },
    {
      "cell_type": "code",
      "source": [
        "import pandas as pd\n",
        "import glob\n",
        "\n",
        "# Find all GaN CSVs in your folder (adjust path if needed)\n",
        "files = glob.glob(\"sample_data/GaN*.csv\")\n",
        "\n",
        "frames = [pd.read_csv(f) for f in files]\n",
        "df = pd.concat(frames, ignore_index=True)\n",
        "\n",
        "# Remove duplicates + reset index (required by assignment)\n",
        "df = df.drop_duplicates().reset_index(drop=True)\n",
        "\n",
        "# Save combined file\n",
        "df.to_csv(\"2014_to_2024_gan_data.csv\", index=False)\n",
        "print(\"Combined shape:\", df.shape)\n"
      ],
      "metadata": {
        "colab": {
          "base_uri": "https://localhost:8080/"
        },
        "id": "lk4AnGCkUCCr",
        "outputId": "06bb5d31-4418-488d-fd60-7866ebaecca8"
      },
      "id": "lk4AnGCkUCCr",
      "execution_count": 13,
      "outputs": [
        {
          "output_type": "stream",
          "name": "stdout",
          "text": [
            "Combined shape: (14373, 17)\n"
          ]
        }
      ]
    },
    {
      "cell_type": "code",
      "execution_count": 14,
      "id": "d083bf7b-5c07-415d-9c92-9c1e499d7ab0",
      "metadata": {
        "id": "d083bf7b-5c07-415d-9c92-9c1e499d7ab0"
      },
      "outputs": [],
      "source": [
        "def assign_location(d):\n",
        "    \"\"\"\n",
        "    Reduces a string to one of four categories, depending on whether \"urban\", \"suburban\", \"rural\" or \"remote\" is in the string.\n",
        "\n",
        "    Args:\n",
        "        d (str): A string or sentence containing one or more of the target words.\n",
        "\n",
        "    Returns:\n",
        "        str: the string target or None if not foun\n",
        "    \"\"\"\n",
        "    import re\n",
        "\n",
        "    d = str(d).lower()\n",
        "    re_urban = r\"\\w*(?<![Ss]ub)urban\"\n",
        "\n",
        "    if re.match(re_urban, d):\n",
        "        return \"urban\"\n",
        "    elif \"suburban\" in d:\n",
        "        return \"suburban\"\n",
        "    elif \"rural\" in d:\n",
        "        return \"rural\"\n",
        "    elif \"remote\" in d:\n",
        "        return \"remote\""
      ]
    },
    {
      "cell_type": "code",
      "execution_count": 15,
      "id": "2dcb7eff",
      "metadata": {
        "id": "2dcb7eff"
      },
      "outputs": [],
      "source": [
        "# CODE SOLUTION HERE\n",
        "def assign_location(d):\n",
        "    \"\"\"\n",
        "    Map a free-text location comment to one of:\n",
        "    'urban', 'suburban', 'rural', 'remote', or 'unknown'.\n",
        "    \"\"\"\n",
        "    if pd.isna(d):\n",
        "        return \"unknown\"\n",
        "\n",
        "    s = str(d).lower()\n",
        "\n",
        "    if \"suburban\" in s:\n",
        "        return \"suburban\"\n",
        "    elif \"urban\" in s:\n",
        "        return \"urban\"\n",
        "    elif \"rural\" in s:\n",
        "        return \"rural\"\n",
        "    elif \"remote\" in s:\n",
        "        return \"remote\"\n",
        "    else:\n",
        "        return \"unknown\"\n"
      ]
    },
    {
      "cell_type": "markdown",
      "id": "8bdc2dbc",
      "metadata": {
        "id": "8bdc2dbc"
      },
      "source": [
        "**&#167; Task:**  **Convert categorical fields to numeric ones.**\n",
        "\n",
        "We will convert these to numeric values using the following guidance:\n",
        "\n",
        "* \"clear\" &#8594; 0\n",
        "* \"1/4 of sky\" &#8594; 0.25\n",
        "* \"1/2 of sky\" &#8594; 0.50\n",
        "* \"over 1/2 of sky\" &#8594; 0.75"
      ]
    },
    {
      "cell_type": "code",
      "execution_count": 16,
      "id": "42c8b115",
      "metadata": {
        "id": "42c8b115"
      },
      "outputs": [],
      "source": [
        "# CODE SOLUTION HERE\n",
        "map_cloud = {\n",
        "    \"clear\": 0,\n",
        "    \"1/4 of sky\": 0.25,\n",
        "    \"1/2 of sky\": 0.50,\n",
        "    \"over 1/2 of sky\": 0.75\n",
        "}\n",
        "\n",
        "df[\"CloudCoverPct\"] = df[\"CloudCover\"].map(map_cloud)\n"
      ]
    },
    {
      "cell_type": "markdown",
      "id": "74f13d28",
      "metadata": {
        "id": "74f13d28"
      },
      "source": [
        "**&#167; Task:**  **Convert `Constellation` to numeric binary values (binarize the column).**\n"
      ]
    },
    {
      "cell_type": "code",
      "execution_count": 17,
      "id": "af765a57",
      "metadata": {
        "id": "af765a57"
      },
      "outputs": [],
      "source": [
        "# CODE SOLUTION HERE\n",
        "df = pd.get_dummies(df, columns=[\"Constellation\"], prefix=\"const\")\n"
      ]
    },
    {
      "cell_type": "markdown",
      "id": "8284cba7",
      "metadata": {
        "id": "8284cba7"
      },
      "source": [
        "**&#167; Task:**  **Create 5 binary columns `loc_urban`, `loc_suburban`, `loc_rural`, `loc_remote` and `loc_unknown`.**"
      ]
    },
    {
      "cell_type": "code",
      "execution_count": 18,
      "id": "2beee9f0",
      "metadata": {
        "colab": {
          "base_uri": "https://localhost:8080/"
        },
        "id": "2beee9f0",
        "outputId": "4c9b9380-9847-46b4-ef16-e46402513be5"
      },
      "outputs": [
        {
          "output_type": "stream",
          "name": "stdout",
          "text": [
            "   urban  suburban  rural  remote  unknown\n",
            "0   True     False  False   False    False\n",
            "1   True     False  False   False    False\n",
            "2   True     False  False   False    False\n",
            "3  False      True  False   False    False\n",
            "4  False     False  False   False     True\n"
          ]
        }
      ],
      "source": [
        "# CODE SOLUTION HERE\n",
        "# Apply mapping\n",
        "df[\"loc\"] = df[\"LocationComment\"].apply(assign_location).fillna(\"unknown\")\n",
        "\n",
        "# Create binary columns\n",
        "df = pd.get_dummies(df, columns=[\"loc\"], prefix=\"\", prefix_sep=\"\")\n",
        "\n",
        "print(df[[\"urban\",\"suburban\",\"rural\",\"remote\",\"unknown\"]].head())\n"
      ]
    },
    {
      "cell_type": "markdown",
      "id": "cbaa57bf",
      "metadata": {
        "id": "cbaa57bf"
      },
      "source": [
        "**&#167; Task:**  **Merge `LocalDate` and `LocalTime` and convert to a `datetime` object.**\n"
      ]
    },
    {
      "cell_type": "code",
      "execution_count": 19,
      "id": "dc8422b9",
      "metadata": {
        "id": "dc8422b9"
      },
      "outputs": [],
      "source": [
        "# CODE SOLUTION HERE\n",
        "df[\"LocalDateTime\"] = pd.to_datetime(\n",
        "    df[\"LocalDate\"].astype(str) + \" \" + df[\"LocalTime\"].astype(str),\n",
        "    errors=\"coerce\"\n",
        ")\n"
      ]
    },
    {
      "cell_type": "markdown",
      "id": "e800a922",
      "metadata": {
        "id": "e800a922"
      },
      "source": [
        "**&#167; Task:**  **Convert missing `SQMReading` values to `-1`.**"
      ]
    },
    {
      "cell_type": "code",
      "execution_count": 20,
      "id": "75bed238",
      "metadata": {
        "id": "75bed238"
      },
      "outputs": [],
      "source": [
        "# CODE SOLUTION HERE\n",
        "df[\"SQMReading\"] = pd.to_numeric(df[\"SQMReading\"], errors=\"coerce\").fillna(-1)\n"
      ]
    },
    {
      "cell_type": "markdown",
      "id": "73097abb",
      "metadata": {
        "id": "73097abb"
      },
      "source": [
        "**&#167; Task:**  **Store a new dataset file with a reduced set columns which include our numeric ones.**"
      ]
    },
    {
      "cell_type": "code",
      "execution_count": 21,
      "id": "a8928c0d",
      "metadata": {
        "colab": {
          "base_uri": "https://localhost:8080/"
        },
        "id": "a8928c0d",
        "outputId": "b64fa0e9-0520-4cd9-8304-1ac960a24b05"
      },
      "outputs": [
        {
          "output_type": "stream",
          "name": "stdout",
          "text": [
            "Wrote working file with shape: (14373, 27)\n"
          ]
        }
      ],
      "source": [
        "# CODE SOLUTION HERE\n",
        "cols = [\n",
        "    \"Latitude\",\"Longitude\",\"Elevation(m)\",\"LocalDateTime\",\"LimitingMag\",\"SQMReading\",\"CloudCoverPct\",\n",
        "    \"const_Bootes\",\"const_Canis Major\",\"const_Crux\",\"const_Cygnus\",\"const_Gemini\",\"const_Grus\",\n",
        "    \"const_Hercules\",\"const_Leo\",\"const_None\",\"const_Orion\",\"const_Pegasus\",\"const_Perseus\",\n",
        "    \"const_Sagittarius\",\"const_Scorpius\",\"const_Taurus\",\n",
        "    \"remote\",\"rural\",\"suburban\",\"unknown\",\"urban\"\n",
        "]\n",
        "\n",
        "for c in cols:\n",
        "    if c not in df.columns: df[c] = 0\n",
        "\n",
        "df[cols].to_csv(\"2014_to_2024_gan_data_working.csv\", index=False)\n",
        "print(\"Wrote working file with shape:\", df[cols].shape)\n"
      ]
    },
    {
      "cell_type": "markdown",
      "source": [
        "BONUS Task: Step (normalize column names)"
      ],
      "metadata": {
        "id": "dNz22XHOVYwG"
      },
      "id": "dNz22XHOVYwG"
    },
    {
      "cell_type": "code",
      "source": [
        "# ===== BONUS: Normalize column names =====\n",
        "df_final = df.copy()\n",
        "\n",
        "# Make names lowercase, replace spaces with \"_\", remove brackets\n",
        "df_final.columns = (\n",
        "    df_final.columns\n",
        "    .str.strip()\n",
        "    .str.lower()\n",
        "    .str.replace(\" \", \"_\")\n",
        "    .str.replace(\"(\", \"\", regex=False)\n",
        "    .str.replace(\")\", \"\", regex=False)\n",
        ")\n",
        "\n",
        "# Save the final dataset\n",
        "df_final.to_csv(\"2014_to_2024_gan_data_final.csv\", index=False)\n",
        "print(\"Wrote final file with shape:\", df_final.shape)\n",
        "\n",
        "df_final.head()\n"
      ],
      "metadata": {
        "colab": {
          "base_uri": "https://localhost:8080/",
          "height": 359
        },
        "id": "pyS8RCHaVGb_",
        "outputId": "c4f5acbc-b81a-4c57-c6e4-e79b180bf649"
      },
      "id": "pyS8RCHaVGb_",
      "execution_count": 22,
      "outputs": [
        {
          "output_type": "stream",
          "name": "stdout",
          "text": [
            "Wrote final file with shape: (14373, 38)\n"
          ]
        },
        {
          "output_type": "execute_result",
          "data": {
            "text/plain": [
              "       id obstype   latitude  longitude  elevationm   localdate localtime  \\\n",
              "0  335973     GAN  45.494345  15.533148      110.85  2024-07-27     22:33   \n",
              "1  335972     GAN  45.499866  15.525713      111.14  2024-07-27     22:25   \n",
              "2  335971     GAN  45.486892  15.538268      113.34  2024-07-27     22:24   \n",
              "3  335970     GAN  45.513186  15.521186      114.90  2024-07-27     22:20   \n",
              "4  335939     GAN  45.495691  15.467396      153.39  2024-07-27     22:31   \n",
              "\n",
              "       utdate uttime  limitingmag  ...  const_sagittarius  const_scorpius  \\\n",
              "0  2024-07-27  20:33            2  ...              False           False   \n",
              "1  2024-07-27  20:25            2  ...              False           False   \n",
              "2  2024-07-27  20:24            2  ...              False           False   \n",
              "3  2024-07-27  20:20            3  ...              False           False   \n",
              "4  2024-07-27  20:31            6  ...              False           False   \n",
              "\n",
              "  remote  rural suburban unknown  urban       localdatetime  const_none  \\\n",
              "0  False  False    False   False   True 2024-07-27 22:33:00           0   \n",
              "1  False  False    False   False   True 2024-07-27 22:25:00           0   \n",
              "2  False  False    False   False   True 2024-07-27 22:24:00           0   \n",
              "3  False  False     True   False  False 2024-07-27 22:20:00           0   \n",
              "4  False  False    False    True  False 2024-07-27 22:31:00           0   \n",
              "\n",
              "   const_taurus  \n",
              "0             0  \n",
              "1             0  \n",
              "2             0  \n",
              "3             0  \n",
              "4             0  \n",
              "\n",
              "[5 rows x 38 columns]"
            ],
            "text/html": [
              "\n",
              "  <div id=\"df-002fb4a0-516f-4852-bf1e-737f1f59b4b3\" class=\"colab-df-container\">\n",
              "    <div>\n",
              "<style scoped>\n",
              "    .dataframe tbody tr th:only-of-type {\n",
              "        vertical-align: middle;\n",
              "    }\n",
              "\n",
              "    .dataframe tbody tr th {\n",
              "        vertical-align: top;\n",
              "    }\n",
              "\n",
              "    .dataframe thead th {\n",
              "        text-align: right;\n",
              "    }\n",
              "</style>\n",
              "<table border=\"1\" class=\"dataframe\">\n",
              "  <thead>\n",
              "    <tr style=\"text-align: right;\">\n",
              "      <th></th>\n",
              "      <th>id</th>\n",
              "      <th>obstype</th>\n",
              "      <th>latitude</th>\n",
              "      <th>longitude</th>\n",
              "      <th>elevationm</th>\n",
              "      <th>localdate</th>\n",
              "      <th>localtime</th>\n",
              "      <th>utdate</th>\n",
              "      <th>uttime</th>\n",
              "      <th>limitingmag</th>\n",
              "      <th>...</th>\n",
              "      <th>const_sagittarius</th>\n",
              "      <th>const_scorpius</th>\n",
              "      <th>remote</th>\n",
              "      <th>rural</th>\n",
              "      <th>suburban</th>\n",
              "      <th>unknown</th>\n",
              "      <th>urban</th>\n",
              "      <th>localdatetime</th>\n",
              "      <th>const_none</th>\n",
              "      <th>const_taurus</th>\n",
              "    </tr>\n",
              "  </thead>\n",
              "  <tbody>\n",
              "    <tr>\n",
              "      <th>0</th>\n",
              "      <td>335973</td>\n",
              "      <td>GAN</td>\n",
              "      <td>45.494345</td>\n",
              "      <td>15.533148</td>\n",
              "      <td>110.85</td>\n",
              "      <td>2024-07-27</td>\n",
              "      <td>22:33</td>\n",
              "      <td>2024-07-27</td>\n",
              "      <td>20:33</td>\n",
              "      <td>2</td>\n",
              "      <td>...</td>\n",
              "      <td>False</td>\n",
              "      <td>False</td>\n",
              "      <td>False</td>\n",
              "      <td>False</td>\n",
              "      <td>False</td>\n",
              "      <td>False</td>\n",
              "      <td>True</td>\n",
              "      <td>2024-07-27 22:33:00</td>\n",
              "      <td>0</td>\n",
              "      <td>0</td>\n",
              "    </tr>\n",
              "    <tr>\n",
              "      <th>1</th>\n",
              "      <td>335972</td>\n",
              "      <td>GAN</td>\n",
              "      <td>45.499866</td>\n",
              "      <td>15.525713</td>\n",
              "      <td>111.14</td>\n",
              "      <td>2024-07-27</td>\n",
              "      <td>22:25</td>\n",
              "      <td>2024-07-27</td>\n",
              "      <td>20:25</td>\n",
              "      <td>2</td>\n",
              "      <td>...</td>\n",
              "      <td>False</td>\n",
              "      <td>False</td>\n",
              "      <td>False</td>\n",
              "      <td>False</td>\n",
              "      <td>False</td>\n",
              "      <td>False</td>\n",
              "      <td>True</td>\n",
              "      <td>2024-07-27 22:25:00</td>\n",
              "      <td>0</td>\n",
              "      <td>0</td>\n",
              "    </tr>\n",
              "    <tr>\n",
              "      <th>2</th>\n",
              "      <td>335971</td>\n",
              "      <td>GAN</td>\n",
              "      <td>45.486892</td>\n",
              "      <td>15.538268</td>\n",
              "      <td>113.34</td>\n",
              "      <td>2024-07-27</td>\n",
              "      <td>22:24</td>\n",
              "      <td>2024-07-27</td>\n",
              "      <td>20:24</td>\n",
              "      <td>2</td>\n",
              "      <td>...</td>\n",
              "      <td>False</td>\n",
              "      <td>False</td>\n",
              "      <td>False</td>\n",
              "      <td>False</td>\n",
              "      <td>False</td>\n",
              "      <td>False</td>\n",
              "      <td>True</td>\n",
              "      <td>2024-07-27 22:24:00</td>\n",
              "      <td>0</td>\n",
              "      <td>0</td>\n",
              "    </tr>\n",
              "    <tr>\n",
              "      <th>3</th>\n",
              "      <td>335970</td>\n",
              "      <td>GAN</td>\n",
              "      <td>45.513186</td>\n",
              "      <td>15.521186</td>\n",
              "      <td>114.90</td>\n",
              "      <td>2024-07-27</td>\n",
              "      <td>22:20</td>\n",
              "      <td>2024-07-27</td>\n",
              "      <td>20:20</td>\n",
              "      <td>3</td>\n",
              "      <td>...</td>\n",
              "      <td>False</td>\n",
              "      <td>False</td>\n",
              "      <td>False</td>\n",
              "      <td>False</td>\n",
              "      <td>True</td>\n",
              "      <td>False</td>\n",
              "      <td>False</td>\n",
              "      <td>2024-07-27 22:20:00</td>\n",
              "      <td>0</td>\n",
              "      <td>0</td>\n",
              "    </tr>\n",
              "    <tr>\n",
              "      <th>4</th>\n",
              "      <td>335939</td>\n",
              "      <td>GAN</td>\n",
              "      <td>45.495691</td>\n",
              "      <td>15.467396</td>\n",
              "      <td>153.39</td>\n",
              "      <td>2024-07-27</td>\n",
              "      <td>22:31</td>\n",
              "      <td>2024-07-27</td>\n",
              "      <td>20:31</td>\n",
              "      <td>6</td>\n",
              "      <td>...</td>\n",
              "      <td>False</td>\n",
              "      <td>False</td>\n",
              "      <td>False</td>\n",
              "      <td>False</td>\n",
              "      <td>False</td>\n",
              "      <td>True</td>\n",
              "      <td>False</td>\n",
              "      <td>2024-07-27 22:31:00</td>\n",
              "      <td>0</td>\n",
              "      <td>0</td>\n",
              "    </tr>\n",
              "  </tbody>\n",
              "</table>\n",
              "<p>5 rows × 38 columns</p>\n",
              "</div>\n",
              "    <div class=\"colab-df-buttons\">\n",
              "\n",
              "  <div class=\"colab-df-container\">\n",
              "    <button class=\"colab-df-convert\" onclick=\"convertToInteractive('df-002fb4a0-516f-4852-bf1e-737f1f59b4b3')\"\n",
              "            title=\"Convert this dataframe to an interactive table.\"\n",
              "            style=\"display:none;\">\n",
              "\n",
              "  <svg xmlns=\"http://www.w3.org/2000/svg\" height=\"24px\" viewBox=\"0 -960 960 960\">\n",
              "    <path d=\"M120-120v-720h720v720H120Zm60-500h600v-160H180v160Zm220 220h160v-160H400v160Zm0 220h160v-160H400v160ZM180-400h160v-160H180v160Zm440 0h160v-160H620v160ZM180-180h160v-160H180v160Zm440 0h160v-160H620v160Z\"/>\n",
              "  </svg>\n",
              "    </button>\n",
              "\n",
              "  <style>\n",
              "    .colab-df-container {\n",
              "      display:flex;\n",
              "      gap: 12px;\n",
              "    }\n",
              "\n",
              "    .colab-df-convert {\n",
              "      background-color: #E8F0FE;\n",
              "      border: none;\n",
              "      border-radius: 50%;\n",
              "      cursor: pointer;\n",
              "      display: none;\n",
              "      fill: #1967D2;\n",
              "      height: 32px;\n",
              "      padding: 0 0 0 0;\n",
              "      width: 32px;\n",
              "    }\n",
              "\n",
              "    .colab-df-convert:hover {\n",
              "      background-color: #E2EBFA;\n",
              "      box-shadow: 0px 1px 2px rgba(60, 64, 67, 0.3), 0px 1px 3px 1px rgba(60, 64, 67, 0.15);\n",
              "      fill: #174EA6;\n",
              "    }\n",
              "\n",
              "    .colab-df-buttons div {\n",
              "      margin-bottom: 4px;\n",
              "    }\n",
              "\n",
              "    [theme=dark] .colab-df-convert {\n",
              "      background-color: #3B4455;\n",
              "      fill: #D2E3FC;\n",
              "    }\n",
              "\n",
              "    [theme=dark] .colab-df-convert:hover {\n",
              "      background-color: #434B5C;\n",
              "      box-shadow: 0px 1px 3px 1px rgba(0, 0, 0, 0.15);\n",
              "      filter: drop-shadow(0px 1px 2px rgba(0, 0, 0, 0.3));\n",
              "      fill: #FFFFFF;\n",
              "    }\n",
              "  </style>\n",
              "\n",
              "    <script>\n",
              "      const buttonEl =\n",
              "        document.querySelector('#df-002fb4a0-516f-4852-bf1e-737f1f59b4b3 button.colab-df-convert');\n",
              "      buttonEl.style.display =\n",
              "        google.colab.kernel.accessAllowed ? 'block' : 'none';\n",
              "\n",
              "      async function convertToInteractive(key) {\n",
              "        const element = document.querySelector('#df-002fb4a0-516f-4852-bf1e-737f1f59b4b3');\n",
              "        const dataTable =\n",
              "          await google.colab.kernel.invokeFunction('convertToInteractive',\n",
              "                                                    [key], {});\n",
              "        if (!dataTable) return;\n",
              "\n",
              "        const docLinkHtml = 'Like what you see? Visit the ' +\n",
              "          '<a target=\"_blank\" href=https://colab.research.google.com/notebooks/data_table.ipynb>data table notebook</a>'\n",
              "          + ' to learn more about interactive tables.';\n",
              "        element.innerHTML = '';\n",
              "        dataTable['output_type'] = 'display_data';\n",
              "        await google.colab.output.renderOutput(dataTable, element);\n",
              "        const docLink = document.createElement('div');\n",
              "        docLink.innerHTML = docLinkHtml;\n",
              "        element.appendChild(docLink);\n",
              "      }\n",
              "    </script>\n",
              "  </div>\n",
              "\n",
              "\n",
              "    <div id=\"df-1be91fa4-d0db-458a-933d-ac5b60560b51\">\n",
              "      <button class=\"colab-df-quickchart\" onclick=\"quickchart('df-1be91fa4-d0db-458a-933d-ac5b60560b51')\"\n",
              "                title=\"Suggest charts\"\n",
              "                style=\"display:none;\">\n",
              "\n",
              "<svg xmlns=\"http://www.w3.org/2000/svg\" height=\"24px\"viewBox=\"0 0 24 24\"\n",
              "     width=\"24px\">\n",
              "    <g>\n",
              "        <path d=\"M19 3H5c-1.1 0-2 .9-2 2v14c0 1.1.9 2 2 2h14c1.1 0 2-.9 2-2V5c0-1.1-.9-2-2-2zM9 17H7v-7h2v7zm4 0h-2V7h2v10zm4 0h-2v-4h2v4z\"/>\n",
              "    </g>\n",
              "</svg>\n",
              "      </button>\n",
              "\n",
              "<style>\n",
              "  .colab-df-quickchart {\n",
              "      --bg-color: #E8F0FE;\n",
              "      --fill-color: #1967D2;\n",
              "      --hover-bg-color: #E2EBFA;\n",
              "      --hover-fill-color: #174EA6;\n",
              "      --disabled-fill-color: #AAA;\n",
              "      --disabled-bg-color: #DDD;\n",
              "  }\n",
              "\n",
              "  [theme=dark] .colab-df-quickchart {\n",
              "      --bg-color: #3B4455;\n",
              "      --fill-color: #D2E3FC;\n",
              "      --hover-bg-color: #434B5C;\n",
              "      --hover-fill-color: #FFFFFF;\n",
              "      --disabled-bg-color: #3B4455;\n",
              "      --disabled-fill-color: #666;\n",
              "  }\n",
              "\n",
              "  .colab-df-quickchart {\n",
              "    background-color: var(--bg-color);\n",
              "    border: none;\n",
              "    border-radius: 50%;\n",
              "    cursor: pointer;\n",
              "    display: none;\n",
              "    fill: var(--fill-color);\n",
              "    height: 32px;\n",
              "    padding: 0;\n",
              "    width: 32px;\n",
              "  }\n",
              "\n",
              "  .colab-df-quickchart:hover {\n",
              "    background-color: var(--hover-bg-color);\n",
              "    box-shadow: 0 1px 2px rgba(60, 64, 67, 0.3), 0 1px 3px 1px rgba(60, 64, 67, 0.15);\n",
              "    fill: var(--button-hover-fill-color);\n",
              "  }\n",
              "\n",
              "  .colab-df-quickchart-complete:disabled,\n",
              "  .colab-df-quickchart-complete:disabled:hover {\n",
              "    background-color: var(--disabled-bg-color);\n",
              "    fill: var(--disabled-fill-color);\n",
              "    box-shadow: none;\n",
              "  }\n",
              "\n",
              "  .colab-df-spinner {\n",
              "    border: 2px solid var(--fill-color);\n",
              "    border-color: transparent;\n",
              "    border-bottom-color: var(--fill-color);\n",
              "    animation:\n",
              "      spin 1s steps(1) infinite;\n",
              "  }\n",
              "\n",
              "  @keyframes spin {\n",
              "    0% {\n",
              "      border-color: transparent;\n",
              "      border-bottom-color: var(--fill-color);\n",
              "      border-left-color: var(--fill-color);\n",
              "    }\n",
              "    20% {\n",
              "      border-color: transparent;\n",
              "      border-left-color: var(--fill-color);\n",
              "      border-top-color: var(--fill-color);\n",
              "    }\n",
              "    30% {\n",
              "      border-color: transparent;\n",
              "      border-left-color: var(--fill-color);\n",
              "      border-top-color: var(--fill-color);\n",
              "      border-right-color: var(--fill-color);\n",
              "    }\n",
              "    40% {\n",
              "      border-color: transparent;\n",
              "      border-right-color: var(--fill-color);\n",
              "      border-top-color: var(--fill-color);\n",
              "    }\n",
              "    60% {\n",
              "      border-color: transparent;\n",
              "      border-right-color: var(--fill-color);\n",
              "    }\n",
              "    80% {\n",
              "      border-color: transparent;\n",
              "      border-right-color: var(--fill-color);\n",
              "      border-bottom-color: var(--fill-color);\n",
              "    }\n",
              "    90% {\n",
              "      border-color: transparent;\n",
              "      border-bottom-color: var(--fill-color);\n",
              "    }\n",
              "  }\n",
              "</style>\n",
              "\n",
              "      <script>\n",
              "        async function quickchart(key) {\n",
              "          const quickchartButtonEl =\n",
              "            document.querySelector('#' + key + ' button');\n",
              "          quickchartButtonEl.disabled = true;  // To prevent multiple clicks.\n",
              "          quickchartButtonEl.classList.add('colab-df-spinner');\n",
              "          try {\n",
              "            const charts = await google.colab.kernel.invokeFunction(\n",
              "                'suggestCharts', [key], {});\n",
              "          } catch (error) {\n",
              "            console.error('Error during call to suggestCharts:', error);\n",
              "          }\n",
              "          quickchartButtonEl.classList.remove('colab-df-spinner');\n",
              "          quickchartButtonEl.classList.add('colab-df-quickchart-complete');\n",
              "        }\n",
              "        (() => {\n",
              "          let quickchartButtonEl =\n",
              "            document.querySelector('#df-1be91fa4-d0db-458a-933d-ac5b60560b51 button');\n",
              "          quickchartButtonEl.style.display =\n",
              "            google.colab.kernel.accessAllowed ? 'block' : 'none';\n",
              "        })();\n",
              "      </script>\n",
              "    </div>\n",
              "\n",
              "    </div>\n",
              "  </div>\n"
            ],
            "application/vnd.google.colaboratory.intrinsic+json": {
              "type": "dataframe",
              "variable_name": "df_final"
            }
          },
          "metadata": {},
          "execution_count": 22
        }
      ]
    }
  ],
  "metadata": {
    "kernelspec": {
      "display_name": "Python 3 (ipykernel)",
      "language": "python",
      "name": "python3"
    },
    "language_info": {
      "codemirror_mode": {
        "name": "ipython",
        "version": 3
      },
      "file_extension": ".py",
      "mimetype": "text/x-python",
      "name": "python",
      "nbconvert_exporter": "python",
      "pygments_lexer": "ipython3",
      "version": "3.11.4"
    },
    "colab": {
      "provenance": []
    }
  },
  "nbformat": 4,
  "nbformat_minor": 5
}
